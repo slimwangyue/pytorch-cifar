{
 "cells": [
  {
   "cell_type": "code",
   "execution_count": 1,
   "metadata": {},
   "outputs": [],
   "source": [
    "import torch"
   ]
  },
  {
   "cell_type": "code",
   "execution_count": 2,
   "metadata": {},
   "outputs": [],
   "source": [
    "from models.quantize import EfficientQuantize"
   ]
  },
  {
   "cell_type": "code",
   "execution_count": 3,
   "metadata": {},
   "outputs": [],
   "source": [
    "func = EfficientQuantize(8,4,(1,1,1,1,),(1,-1),True,True,False,0.1)"
   ]
  },
  {
   "cell_type": "code",
   "execution_count": 4,
   "metadata": {},
   "outputs": [],
   "source": [
    "x = torch.randn(1,3,3,1)"
   ]
  },
  {
   "cell_type": "code",
   "execution_count": 5,
   "metadata": {},
   "outputs": [
    {
     "data": {
      "text/plain": [
       "tensor([[[[-0.6645],\n",
       "          [-0.4745],\n",
       "          [ 0.5642]],\n",
       "\n",
       "         [[ 0.4741],\n",
       "          [-1.8496],\n",
       "          [-1.1601]],\n",
       "\n",
       "         [[-0.3403],\n",
       "          [ 0.5544],\n",
       "          [ 0.6419]]]])"
      ]
     },
     "execution_count": 5,
     "metadata": {},
     "output_type": "execute_result"
    }
   ],
   "source": [
    "x"
   ]
  },
  {
   "cell_type": "code",
   "execution_count": 6,
   "metadata": {},
   "outputs": [],
   "source": [
    "y = func(x)"
   ]
  },
  {
   "cell_type": "code",
   "execution_count": 8,
   "metadata": {},
   "outputs": [
    {
     "data": {
      "text/plain": [
       "(tensor([[[[-0.6647],\n",
       "           [-0.4768],\n",
       "           [ 0.5635]],\n",
       " \n",
       "          [[ 0.4768],\n",
       "           [-1.8496],\n",
       "           [-1.1560]],\n",
       " \n",
       "          [[-0.3468],\n",
       "           [ 0.5491],\n",
       "           [ 0.6358]]]]), tensor([[[[-0.6936],\n",
       "           [-0.4624],\n",
       "           [ 0.4624]],\n",
       " \n",
       "          [[ 0.4624],\n",
       "           [-1.8496],\n",
       "           [-1.1560]],\n",
       " \n",
       "          [[-0.4624],\n",
       "           [ 0.4624],\n",
       "           [ 0.6936]]]]))"
      ]
     },
     "execution_count": 8,
     "metadata": {},
     "output_type": "execute_result"
    }
   ],
   "source": [
    "y"
   ]
  },
  {
   "cell_type": "code",
   "execution_count": null,
   "metadata": {},
   "outputs": [],
   "source": []
  },
  {
   "cell_type": "code",
   "execution_count": null,
   "metadata": {},
   "outputs": [],
   "source": []
  }
 ],
 "metadata": {
  "kernelspec": {
   "display_name": "Python 3",
   "language": "python",
   "name": "python3"
  },
  "language_info": {
   "codemirror_mode": {
    "name": "ipython",
    "version": 3
   },
   "file_extension": ".py",
   "mimetype": "text/x-python",
   "name": "python",
   "nbconvert_exporter": "python",
   "pygments_lexer": "ipython3",
   "version": "3.6.7"
  }
 },
 "nbformat": 4,
 "nbformat_minor": 2
}
